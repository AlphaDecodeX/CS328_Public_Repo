{
 "cells": [
  {
   "cell_type": "markdown",
   "metadata": {},
   "source": [
    "<h1><center>Selective Data Summary of PISA</center></h1>\n",
    "<h4><center>\n",
    "<a style=\"text-decoration:none\" href=\"https://github.com/soon-to-remove\">Taha Mohammad Syed</a>, IIT Gandhinagar, <a style=\"text-decoration:none\" href=\"mailto:<author1>@iitgn.ac.in\">mohammad.syed@iitgn.ac.in</a>\n",
    "<br><br>\n",
    "<a style=\"text-decoration:none\" href=\"https://author2.github.io/\">Lovepreet Singh</a>, IIT Gandhinagar, <a style=\"text-decoration:none\" href=\"mailto:<author2>@iitgn.ac.in\">lovepreet.singh@iitgn.ac.in</a>\n",
    "<br><br>\n",
    "<a style=\"text-decoration:none\" href=\"https://author3.github.io/\">Vaibhav Dilip Khandare</a>, IIT Gandhinagar, <a style=\"text-decoration:none\" href=\"mailto:<author3>@iitgn.ac.in\">dilip.khandare@iitgn.ac.in</a>\n",
    "</center></h4>"
   ]
  },
  {
   "cell_type": "markdown",
   "metadata": {},
   "source": [
    "[![Repo](https://img.shields.io/badge/GitHub-vtl-brightgreen)](https://github.com/CS328-Spring-2022/writing-assignment-taha_lovepreet_vaibhav)"
   ]
  },
  {
   "cell_type": "markdown",
   "metadata": {},
   "source": [
    "“The great aim of education is not knowledge but action”\n",
    " ~Herbet Spencer\n",
    "\n",
    "“Benchmarking enables one to move from an abstract sense of progress to an objective reality”\n",
    "~Unknown\n",
    "\n",
    "“If you want to change something, start measuring it”\n",
    "~Unknown\n"
   ]
  },
  {
   "cell_type": "markdown",
   "metadata": {},
   "source": [
    "# About\n",
    "\n",
    "The OECD Programme for International Student Assessment (PISA) is a collaborative effort among members of the OECD and other participating countries for measuring real-life problem-solving skills after being exposed to compulsory schooling. The foundational aspiration/target is to provide nations with an insight as to how the students are faring against the global community and prompting them to amend the national curriculum such that the students are better equipped for handling future challenges!"
   ]
  },
  {
   "attachments": {},
   "cell_type": "markdown",
   "metadata": {},
   "source": [
    "## Analysing the participation in PISA\n",
    "\n",
    "<img src=\"assets/img_1.jpg\">\n",
    "\n",
    "From the above graph, we see that the number of participating countries shows an increasing [upward] trend with the number of countries doubling in the twenty-year horizon which indicates the wide acceptance of PISA across the globe!\n"
   ]
  },
  {
   "cell_type": "markdown",
   "metadata": {},
   "source": [
    "<img src=\"assets/img_2.jpg\">\n",
    "\n",
    "The plot suggests a couple of things, firstly it shows a sudden amendment in the medium these tests are conducted switching from pen-paper based to computer-based assessment with the inflection coming in 2015. These are further indicative of two things. One is that the majority of the participants in PISA have the necessary technical infrastructure in place for a complete transition. Second, the decrease in the proportion of pen-paper-based participants in the successive years points toward the increasing adoption of computers in schools worldwide. Another weak inference that one can argue about is the digital familiarity of students as one needs to be at a basic familiarity level with computers to be able to take such assessments!\n"
   ]
  },
  {
   "cell_type": "markdown",
   "metadata": {},
   "source": [
    "## Analysing Low performer and Top performers in Math, Science and Reading\n",
    "\n",
    "### Math\n",
    "<img src=\"assets/img_3.jpg\">\n",
    "\n",
    "The analysis of the above plot reveals an increasing percentage of low scoring students [those who are below level 2 in PISA mathematics proficiency level assessment] over the years \n",
    "\n",
    "On the other hand, there is a decreasing percentage of students who are top performers[those who are above level 5 in the PISA mathematics proficiency level assessment]!\n",
    "\n",
    "This plot suggests that the average score is lowering over the years as indicated by the increase in the number of low scoring students which offsets the decrease in the number of top performers by a slight margin of [2-3%]\n"
   ]
  },
  {
   "cell_type": "markdown",
   "metadata": {},
   "source": [
    "<img src=\"assets/img_4.jpg\">\n",
    "\n",
    "\n",
    "After segregating OECD and partner nations we see that the percentage of low performers in the OECD nations shows a somewhat stable upward trend and the percentage of top performers also show a similar trend as the overall plot [a decreasing one]!\n",
    "\n",
    "<img src=\"assets/img_5.jpg\">\n",
    "\n",
    "The partner nations show an irregular increasing trend in the percentage of low performers while a relatively low decrease in the percentage of top performers as compared to their OECD counterparts!\n",
    "\n",
    "One interesting thing is that the absolute percentage of low performers is high in the partner countries as compared to the OECD ones. While the absolute percentage of high performers is high in the OECD nations, the difference in values is not as stark as that in the percentage of low performers between the two.\n",
    "\n"
   ]
  },
  {
   "cell_type": "markdown",
   "metadata": {},
   "source": [
    "### Reading\n",
    "\n",
    "<img src=\"assets/img_6.jpg\">\n",
    "\n",
    "The Mean Reading performance Curve shows somewhat of an irregular trend with an increase in 2003 from 2000 and successive decreases in further years with a local peak in 2012. Overall, the mean reading performance showed a decrease of around four percent across the entire time duration from the starting point!\n",
    "\n",
    "<img src=\"assets/image_7.jpg\">\n",
    "\n",
    "The mean reading scores of 15-year olds in OECD nations also have a narrow fall but the absolute mean score hovers around a high of 490 throughout the duration. So, we can see a stable OECD mean reading score with occasional noise in intermediate years!\n",
    "\n",
    "<img src=\"assets/image_8.jpg\">\n",
    "\n",
    "The mean reading scores of partner nations, though less in absolute terms when compared to the OECD nations, have an upward trend with around a three percent increase in 2018 when compared to the starting year of 2000!\n",
    "One other interesting point that we came across is that the overall mean reading score is not indicative of the segregated OECD or partner countries!\n"
   ]
  },
  {
   "cell_type": "markdown",
   "metadata": {},
   "source": [
    "### Science\n",
    "<img src=\"assets/image_9.jpg\">\n",
    "\n",
    "Overall, we observe an increase in the percentage of low scorers in the Science PISA assessment and a decrease in the absolute percentage of top performers\n",
    "\n",
    "<img src=\"assets/image_10.jpg\">\n",
    "\n",
    "Coming to the OECD nations, we see a slight increase in low performers but not as drastic as the one observed in the overall section. Moreover, there is a slight decrease in top performers which is pretty consistent with the overall scenario.\n",
    "\n",
    "<img src=\"assets/image_11.jpg\">\n",
    "\n",
    "Similarly, the plot for partner nations indicates a slight increase in low performers while being almost invariant for the number of top performers!\n"
   ]
  },
  {
   "cell_type": "markdown",
   "metadata": {},
   "source": [
    "After analyzing the performance across three fields namely Science, Mathematics and Reading we converge on the conclusion that OECD nations perform better than the partner countries which is reflected in the high reading scores and less percentage of low performers and more percentage of top performers!\n"
   ]
  },
  {
   "cell_type": "markdown",
   "metadata": {},
   "source": [
    "## Technical insights\n",
    "\n",
    "<img src=\"assets/image_12.jpg\">\n",
    "\n",
    "The above bar graph shows the average time used by the students in all countries of PISA in the year 2012.\n",
    "\n",
    "<img src=\"assets/image_13.jpg\">\n",
    "\n",
    "The above bar graph shows the average time used by the students in all countries of PISA in the year 2018.\n",
    "As we can see from the graph. All average time has been increased significantly approx 75 mins each. \n",
    "\n",
    "<img src=\"assets/image_14.jpg\">\n",
    "\n",
    "The above graph shows the change in the percentage of devices in each country's students and the availability of internet connection. All the device's availability increased except the Desktop computer. Since there is an availability of more portable laptops and tablets. The Internet has been increased from 85% to 95%. Tablet computers have drastically increased by 71%. Also the E-book reader increased by 32%\n",
    "\n",
    "<img src=\"assets/image_15.jpg\">"
   ]
  }
 ],
 "metadata": {
  "kernelspec": {
   "display_name": "Python 3",
   "language": "python",
   "name": "python3"
  },
  "language_info": {
   "codemirror_mode": {
    "name": "ipython",
    "version": 3
   },
   "file_extension": ".py",
   "mimetype": "text/x-python",
   "name": "python",
   "nbconvert_exporter": "python",
   "pygments_lexer": "ipython3",
   "version": "3.7.6"
  }
 },
 "nbformat": 4,
 "nbformat_minor": 2
}
